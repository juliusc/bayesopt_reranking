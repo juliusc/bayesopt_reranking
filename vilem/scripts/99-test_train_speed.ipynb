{
 "cells": [
  {
   "cell_type": "code",
   "execution_count": 6,
   "metadata": {},
   "outputs": [],
   "source": [
    "import torch\n",
    "import time\n",
    "\n",
    "\n",
    "class Model(torch.nn.Module):\n",
    "    def __init__(self, dropout):\n",
    "        super().__init__()\n",
    "\n",
    "        \n",
    "        self.layers = torch.nn.Sequential(*[\n",
    "            layer\n",
    "            for _ in range(100)\n",
    "            for layer in [\n",
    "                torch.nn.Linear(700, 700),\n",
    "                torch.nn.Dropout(dropout)\n",
    "            ]\n",
    "        ])\n",
    "\n",
    "    def forward(self, x):\n",
    "        self.layers(x)"
   ]
  },
  {
   "cell_type": "code",
   "execution_count": 11,
   "metadata": {},
   "outputs": [
    {
     "name": "stdout",
     "output_type": "stream",
     "text": [
      "Took 42s\n"
     ]
    }
   ],
   "source": [
    "model = Model(0.3).to(\"cuda:0\")\n",
    "model.train()\n",
    "\n",
    "time_start = time.time()\n",
    "for _ in range(10_000):\n",
    "    _ = model(torch.rand((700,)).to(\"cuda:0\"))\n",
    "print(f\"Took {time.time()-time_start:.0f}s\")"
   ]
  },
  {
   "cell_type": "code",
   "execution_count": 12,
   "metadata": {},
   "outputs": [
    {
     "name": "stdout",
     "output_type": "stream",
     "text": [
      "Took 28s\n"
     ]
    }
   ],
   "source": [
    "model = Model(0.3).to(\"cuda:0\")\n",
    "model.eval()\n",
    "\n",
    "time_start = time.time()\n",
    "for _ in range(10_000):\n",
    "    _ = model(torch.rand((700,)).to(\"cuda:0\"))\n",
    "print(f\"Took {time.time()-time_start:.0f}s\")"
   ]
  },
  {
   "cell_type": "code",
   "execution_count": 13,
   "metadata": {},
   "outputs": [
    {
     "name": "stdout",
     "output_type": "stream",
     "text": [
      "Took 28s\n"
     ]
    }
   ],
   "source": [
    "model = Model(0.0).to(\"cuda:0\")\n",
    "model.train()\n",
    "\n",
    "time_start = time.time()\n",
    "for _ in range(10_000):\n",
    "    _ = model(torch.rand((700,)).to(\"cuda:0\"))\n",
    "print(f\"Took {time.time()-time_start:.0f}s\")"
   ]
  }
 ],
 "metadata": {
  "kernelspec": {
   "display_name": "Python 3",
   "language": "python",
   "name": "python3"
  },
  "language_info": {
   "codemirror_mode": {
    "name": "ipython",
    "version": 3
   },
   "file_extension": ".py",
   "mimetype": "text/x-python",
   "name": "python",
   "nbconvert_exporter": "python",
   "pygments_lexer": "ipython3",
   "version": "3.11.4"
  },
  "orig_nbformat": 4
 },
 "nbformat": 4,
 "nbformat_minor": 2
}
